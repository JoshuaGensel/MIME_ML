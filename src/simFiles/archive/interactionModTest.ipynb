{
 "cells": [
  {
   "cell_type": "code",
   "execution_count": 3,
   "metadata": {},
   "outputs": [],
   "source": [
    "#load dmMIMESim data\n",
    "from simDataPreprocessing import convertToInteractionMatrix\n",
    "\n",
    "bound_1_1 = convertToInteractionMatrix('/mnt/d/data/MIME_data/data/simData/dmMIME/L50/secondRoundFromProt1/prot1/sequences/7.txt',\n",
    "                            maxNumSequences=10000, splitProb=3/200, readSize=10, protConc=1, protConc2=1, seed=2536)\n",
    "bound_1_6 = convertToInteractionMatrix('/mnt/d/data/MIME_data/data/simData/dmMIME/L50/secondRoundFromProt1/prot6/sequences/7.txt',\n",
    "                            maxNumSequences=10000, splitProb=3/200, readSize=10, protConc=1, protConc2=6, seed=5675)\n",
    "bound_1_15 = convertToInteractionMatrix('/mnt/d/data/MIME_data/data/simData/dmMIME/L50/secondRoundFromProt1/prot15/sequences/7.txt',\n",
    "                            maxNumSequences=10000, splitProb=3/200, readSize=10, protConc=1, protConc2=15, seed=3456)\n",
    "bound_1_30 = convertToInteractionMatrix('/mnt/d/data/MIME_data/data/simData/dmMIME/L50/secondRoundFromProt1/prot30/sequences/7.txt',\n",
    "                            maxNumSequences=10000, splitProb=3/200, readSize=10, protConc=1, protConc2=30, seed=972358)\n",
    "\n",
    "unbound_1_1 = convertToInteractionMatrix('/mnt/d/data/MIME_data/data/simData/dmMIME/L50/secondRoundFromProt1/prot1/sequences/8.txt',\n",
    "                            maxNumSequences=10000, splitProb=3/200, readSize=10, protConc=1, protConc2=1, seed=867532)\n",
    "unbound_1_6 = convertToInteractionMatrix('/mnt/d/data/MIME_data/data/simData/dmMIME/L50/secondRoundFromProt1/prot6/sequences/8.txt',\n",
    "                            maxNumSequences=10000, splitProb=3/200, readSize=10, protConc=1, protConc2=6, seed=10357)\n",
    "unbound_1_15 = convertToInteractionMatrix('/mnt/d/data/MIME_data/data/simData/dmMIME/L50/secondRoundFromProt1/prot15/sequences/8.txt',\n",
    "                            maxNumSequences=10000, splitProb=3/200, readSize=10, protConc=1, protConc2=15, seed=67238)\n",
    "unbound_1_30 = convertToInteractionMatrix('/mnt/d/data/MIME_data/data/simData/dmMIME/L50/secondRoundFromProt1/prot30/sequences/8.txt',\n",
    "                            maxNumSequences=10000, splitProb=3/200, readSize=10, protConc=1, protConc2=30, seed=564123)\n",
    "\n",
    "bound_6_1 = convertToInteractionMatrix('/mnt/d/data/MIME_data/data/simData/dmMIME/L50/secondRoundFromProt6/prot1/sequences/7.txt',\n",
    "                            maxNumSequences=10000, splitProb=3/200, readSize=10, protConc=6, protConc2=1, seed=4527)\n",
    "bound_6_6 = convertToInteractionMatrix('/mnt/d/data/MIME_data/data/simData/dmMIME/L50/secondRoundFromProt6/prot6/sequences/7.txt',\n",
    "                            maxNumSequences=10000, splitProb=3/200, readSize=10, protConc=6, protConc2=6, seed=24577)\n",
    "bound_6_15 = convertToInteractionMatrix('/mnt/d/data/MIME_data/data/simData/dmMIME/L50/secondRoundFromProt6/prot15/sequences/7.txt',\n",
    "                            maxNumSequences=10000, splitProb=3/200, readSize=10, protConc=6, protConc2=15, seed=23456)\n",
    "bound_6_30 = convertToInteractionMatrix('/mnt/d/data/MIME_data/data/simData/dmMIME/L50/secondRoundFromProt6/prot30/sequences/7.txt',\n",
    "                            maxNumSequences=10000, splitProb=3/200, readSize=10, protConc=6, protConc2=30, seed=75948)\n",
    "\n",
    "unbound_6_1 = convertToInteractionMatrix('/mnt/d/data/MIME_data/data/simData/dmMIME/L50/secondRoundFromProt6/prot1/sequences/8.txt',\n",
    "                            maxNumSequences=10000, splitProb=3/200, readSize=10, protConc=6, protConc2=1, seed=2456)\n",
    "unbound_6_6 = convertToInteractionMatrix('/mnt/d/data/MIME_data/data/simData/dmMIME/L50/secondRoundFromProt6/prot6/sequences/8.txt',\n",
    "                            maxNumSequences=10000, splitProb=3/200, readSize=10, protConc=6, protConc2=6, seed=45678)\n",
    "unbound_6_15 = convertToInteractionMatrix('/mnt/d/data/MIME_data/data/simData/dmMIME/L50/secondRoundFromProt6/prot15/sequences/8.txt',\n",
    "                            maxNumSequences=10000, splitProb=3/200, readSize=10, protConc=6, protConc2=15, seed=3415)\n",
    "unbound_6_30 = convertToInteractionMatrix('/mnt/d/data/MIME_data/data/simData/dmMIME/L50/secondRoundFromProt6/prot30/sequences/8.txt',\n",
    "                            maxNumSequences=10000, splitProb=3/200, readSize=10, protConc=6, protConc2=30, seed=7469)\n",
    "\n",
    "bound_15_1 = convertToInteractionMatrix('/mnt/d/data/MIME_data/data/simData/dmMIME/L50/secondRoundFromProt15/prot1/sequences/7.txt',\n",
    "                            maxNumSequences=10000, splitProb=3/200, readSize=10, protConc=15, protConc2=1, seed=13465)\n",
    "bound_15_6 = convertToInteractionMatrix('/mnt/d/data/MIME_data/data/simData/dmMIME/L50/secondRoundFromProt15/prot6/sequences/7.txt',\n",
    "                            maxNumSequences=10000, splitProb=3/200, readSize=10, protConc=15, protConc2=6, seed=3658)\n",
    "bound_15_15 = convertToInteractionMatrix('/mnt/d/data/MIME_data/data/simData/dmMIME/L50/secondRoundFromProt15/prot15/sequences/7.txt',\n",
    "                            maxNumSequences=10000, splitProb=3/200, readSize=10, protConc=15, protConc2=15, seed=13456)\n",
    "bound_15_30 = convertToInteractionMatrix('/mnt/d/data/MIME_data/data/simData/dmMIME/L50/secondRoundFromProt15/prot30/sequences/7.txt',\n",
    "                            maxNumSequences=10000, splitProb=3/200, readSize=10, protConc=15, protConc2=30, seed=2457)\n",
    "\n",
    "unbound_15_1 = convertToInteractionMatrix('/mnt/d/data/MIME_data/data/simData/dmMIME/L50/secondRoundFromProt15/prot1/sequences/8.txt',\n",
    "                            maxNumSequences=10000, splitProb=3/200, readSize=10, protConc=15, protConc2=1, seed=83656)\n",
    "unbound_15_6 = convertToInteractionMatrix('/mnt/d/data/MIME_data/data/simData/dmMIME/L50/secondRoundFromProt15/prot6/sequences/8.txt',\n",
    "                            maxNumSequences=10000, splitProb=3/200, readSize=10, protConc=15, protConc2=6, seed=2574)\n",
    "unbound_15_15 = convertToInteractionMatrix('/mnt/d/data/MIME_data/data/simData/dmMIME/L50/secondRoundFromProt15/prot15/sequences/8.txt',\n",
    "                            maxNumSequences=10000, splitProb=3/200, readSize=10, protConc=15, protConc2=15, seed=4679)\n",
    "unbound_15_30 = convertToInteractionMatrix('/mnt/d/data/MIME_data/data/simData/dmMIME/L50/secondRoundFromProt15/prot30/sequences/8.txt',\n",
    "                            maxNumSequences=10000, splitProb=3/200, readSize=10, protConc=15, protConc2=30, seed=1345)\n",
    "\n",
    "bound_30_1 = convertToInteractionMatrix('/mnt/d/data/MIME_data/data/simData/dmMIME/L50/secondRoundFromProt30/prot1/sequences/7.txt',\n",
    "                            maxNumSequences=10000, splitProb=3/200, readSize=10, protConc=30, protConc2=1, seed=3567)\n",
    "bound_30_6 = convertToInteractionMatrix('/mnt/d/data/MIME_data/data/simData/dmMIME/L50/secondRoundFromProt30/prot6/sequences/7.txt',\n",
    "                            maxNumSequences=10000, splitProb=3/200, readSize=10, protConc=30, protConc2=6, seed=565674275)\n",
    "bound_30_15 = convertToInteractionMatrix('/mnt/d/data/MIME_data/data/simData/dmMIME/L50/secondRoundFromProt30/prot15/sequences/7.txt',\n",
    "                            maxNumSequences=10000, splitProb=3/200, readSize=10, protConc=30, protConc2=15, seed=2457)\n",
    "bound_30_30 = convertToInteractionMatrix('/mnt/d/data/MIME_data/data/simData/dmMIME/L50/secondRoundFromProt30/prot30/sequences/7.txt',\n",
    "                            maxNumSequences=10000, splitProb=3/200, readSize=10, protConc=30, protConc2=30, seed=25478)\n",
    "\n",
    "unbound_30_1 = convertToInteractionMatrix('/mnt/d/data/MIME_data/data/simData/dmMIME/L50/secondRoundFromProt30/prot1/sequences/8.txt',\n",
    "                            maxNumSequences=10000, splitProb=3/200, readSize=10, protConc=30, protConc2=1, seed=6583)\n",
    "unbound_30_6 = convertToInteractionMatrix('/mnt/d/data/MIME_data/data/simData/dmMIME/L50/secondRoundFromProt30/prot6/sequences/8.txt',\n",
    "                            maxNumSequences=10000, splitProb=3/200, readSize=10, protConc=30, protConc2=6, seed=4136)\n",
    "unbound_30_15 = convertToInteractionMatrix('/mnt/d/data/MIME_data/data/simData/dmMIME/L50/secondRoundFromProt30/prot15/sequences/8.txt',\n",
    "                            maxNumSequences=10000, splitProb=3/200, readSize=10, protConc=30, protConc2=15, seed=4356)\n",
    "unbound_30_30 = convertToInteractionMatrix('/mnt/d/data/MIME_data/data/simData/dmMIME/L50/secondRoundFromProt30/prot30/sequences/8.txt',\n",
    "                            maxNumSequences=10000, splitProb=3/200, readSize=10, protConc=30, protConc2=30, seed=564123)"
   ]
  },
  {
   "cell_type": "code",
   "execution_count": 4,
   "metadata": {},
   "outputs": [
    {
     "data": {
      "text/plain": [
       "((165611, 1277), (110408, 1277), (165611, 1), (110408, 1))"
      ]
     },
     "execution_count": 4,
     "metadata": {},
     "output_type": "execute_result"
    }
   ],
   "source": [
    "#prepare data for training\n",
    "\n",
    "import numpy as np\n",
    "from sklearn.model_selection import train_test_split\n",
    "\n",
    "#combine all bound and unbound data into one array\n",
    "bound = np.concatenate((bound_1_1, bound_1_6, bound_1_15, bound_1_30, bound_6_1, bound_6_6, bound_6_15, bound_6_30, bound_15_1, bound_15_6, bound_15_15, bound_15_30, bound_30_1, bound_30_6, bound_30_15, bound_30_30), axis=0)\n",
    "unbound = np.concatenate((unbound_1_1, unbound_1_6, unbound_1_15, unbound_1_30, unbound_6_1, unbound_6_6, unbound_6_15, unbound_6_30, unbound_15_1, unbound_15_6, unbound_15_15, unbound_15_30, unbound_30_1, unbound_30_6, unbound_30_15, unbound_30_30), axis=0)\n",
    "\n",
    "#create labels for bound and unbound data\n",
    "bound_labels = np.ones((bound.shape[0],1))\n",
    "unbound_labels = np.zeros((unbound.shape[0],1))\n",
    "\n",
    "#combine bound and unbound data and labels into one array\n",
    "data = np.concatenate((bound, unbound), axis=0)\n",
    "labels = np.concatenate((bound_labels, unbound_labels), axis=0)\n",
    "\n",
    "#create training and test data\n",
    "X_train, X_test, y_train, y_test = train_test_split(data, labels, test_size=0.4, random_state=42)\n",
    "X_train.shape, X_test.shape, y_train.shape, y_test.shape"
   ]
  },
  {
   "cell_type": "code",
   "execution_count": 7,
   "metadata": {},
   "outputs": [
    {
     "name": "stdout",
     "output_type": "stream",
     "text": [
      "[0.394798 0.194512 1.       1.       0.564788 1.       1.       3.42328\n",
      " 1.       0.669035]\n",
      "[1.       1.       1.9237   1.       2.9786   1.       1.       0.621576\n",
      " 1.74015  1.      ]\n"
     ]
    }
   ],
   "source": [
    "# read in kd values\n",
    "kds = np.loadtxt('/mnt/d/data/MIME_data/data/simData/dmMIME/L50/secondRoundFromProt1/prot1/single_kds.txt')\n",
    "print(kds[0:10])\n",
    "\n",
    "#read in pairwhise epistasis\n",
    "epistasis = np.loadtxt('/mnt/d/data/MIME_data/data/simData/dmMIME/L50/secondRoundFromProt1/prot1/pairwise_epistasis.txt')\n",
    "print(epistasis[0:10])"
   ]
  },
  {
   "cell_type": "code",
   "execution_count": 14,
   "metadata": {},
   "outputs": [
    {
     "name": "stdout",
     "output_type": "stream",
     "text": [
      "C: 0.01 l1_ratio: 0 resid_corr: -0.298 epis_corr: 0.043 score: 0.698\n",
      "C: 0.01 l1_ratio: 0.25 resid_corr: -0.003 epis_corr: 0.033 score: 0.698\n",
      "C: 0.01 l1_ratio: 0.5 resid_corr: 0.192 epis_corr: 0.02 score: 0.699\n",
      "C: 0.01 l1_ratio: 0.75 resid_corr: 0.328 epis_corr: 0.011 score: 0.698\n",
      "C: 0.01 l1_ratio: 1 resid_corr: 0.371 epis_corr: 0.002 score: 0.699\n",
      "C: 0.1 l1_ratio: 0 resid_corr: -0.326 epis_corr: 0.055 score: 0.697\n",
      "C: 0.1 l1_ratio: 0.25 resid_corr: -0.311 epis_corr: 0.05 score: 0.697\n",
      "C: 0.1 l1_ratio: 0.5 resid_corr: -0.301 epis_corr: 0.053 score: 0.697\n",
      "C: 0.1 l1_ratio: 0.75 resid_corr: -0.278 epis_corr: 0.053 score: 0.697\n",
      "C: 0.1 l1_ratio: 1 resid_corr: -0.245 epis_corr: 0.051 score: 0.698\n",
      "C: 1 l1_ratio: 0 resid_corr: -0.309 epis_corr: 0.055 score: 0.696\n",
      "C: 1 l1_ratio: 0.25 resid_corr: -0.308 epis_corr: 0.055 score: 0.697\n",
      "C: 1 l1_ratio: 0.5 resid_corr: -0.306 epis_corr: 0.056 score: 0.696\n",
      "C: 1 l1_ratio: 0.75 resid_corr: -0.304 epis_corr: 0.056 score: 0.697\n",
      "C: 1 l1_ratio: 1 resid_corr: -0.302 epis_corr: 0.056 score: 0.697\n"
     ]
    }
   ],
   "source": [
    "#train logsitic regression model with different regularization parameters\n",
    "from sklearn.linear_model import LogisticRegression\n",
    "from scipy.stats import pearsonr\n",
    "import warnings\n",
    "warnings.filterwarnings('ignore')\n",
    "\n",
    "#regularization parameter C\n",
    "C = [0.01, 0.1, 1]\n",
    "#regularization parameter l1_ratio\n",
    "l1_ratio = [0, 0.25, 0.5, 0.75, 1]\n",
    "\n",
    "#train model for every combination of C and l1_ratio and evaluate correlation between weights and true kd values\n",
    "for c in C:\n",
    "    for l1 in l1_ratio:\n",
    "        model = LogisticRegression(penalty='elasticnet', solver='saga', C=c, l1_ratio=l1)\n",
    "        model.fit(X_train, y_train.ravel())\n",
    "        #get residue model weights\n",
    "        resWeights = model.coef_[0][2:52]*-1\n",
    "        #get pairwise epistasis model weights\n",
    "        pairWeights = model.coef_[0][52:]*-1\n",
    "        #correlation between weights and log of kd values\n",
    "        resCorr, _ = pearsonr(np.log(kds), resWeights)\n",
    "        episCorr, _ = pearsonr(epistasis, pairWeights)\n",
    "        print(\"C: \" + str(c) + \" l1_ratio: \" + str(l1) + \" resid_corr: \" + str(round(resCorr,3)) + \" epis_corr: \" + str(round(episCorr,3)) + \" score: \" + str(model.score(X_test, y_test).round(3)))"
   ]
  },
  {
   "cell_type": "code",
   "execution_count": 9,
   "metadata": {},
   "outputs": [
    {
     "data": {
      "text/html": [
       "<style>#sk-container-id-1 {color: black;background-color: white;}#sk-container-id-1 pre{padding: 0;}#sk-container-id-1 div.sk-toggleable {background-color: white;}#sk-container-id-1 label.sk-toggleable__label {cursor: pointer;display: block;width: 100%;margin-bottom: 0;padding: 0.3em;box-sizing: border-box;text-align: center;}#sk-container-id-1 label.sk-toggleable__label-arrow:before {content: \"▸\";float: left;margin-right: 0.25em;color: #696969;}#sk-container-id-1 label.sk-toggleable__label-arrow:hover:before {color: black;}#sk-container-id-1 div.sk-estimator:hover label.sk-toggleable__label-arrow:before {color: black;}#sk-container-id-1 div.sk-toggleable__content {max-height: 0;max-width: 0;overflow: hidden;text-align: left;background-color: #f0f8ff;}#sk-container-id-1 div.sk-toggleable__content pre {margin: 0.2em;color: black;border-radius: 0.25em;background-color: #f0f8ff;}#sk-container-id-1 input.sk-toggleable__control:checked~div.sk-toggleable__content {max-height: 200px;max-width: 100%;overflow: auto;}#sk-container-id-1 input.sk-toggleable__control:checked~label.sk-toggleable__label-arrow:before {content: \"▾\";}#sk-container-id-1 div.sk-estimator input.sk-toggleable__control:checked~label.sk-toggleable__label {background-color: #d4ebff;}#sk-container-id-1 div.sk-label input.sk-toggleable__control:checked~label.sk-toggleable__label {background-color: #d4ebff;}#sk-container-id-1 input.sk-hidden--visually {border: 0;clip: rect(1px 1px 1px 1px);clip: rect(1px, 1px, 1px, 1px);height: 1px;margin: -1px;overflow: hidden;padding: 0;position: absolute;width: 1px;}#sk-container-id-1 div.sk-estimator {font-family: monospace;background-color: #f0f8ff;border: 1px dotted black;border-radius: 0.25em;box-sizing: border-box;margin-bottom: 0.5em;}#sk-container-id-1 div.sk-estimator:hover {background-color: #d4ebff;}#sk-container-id-1 div.sk-parallel-item::after {content: \"\";width: 100%;border-bottom: 1px solid gray;flex-grow: 1;}#sk-container-id-1 div.sk-label:hover label.sk-toggleable__label {background-color: #d4ebff;}#sk-container-id-1 div.sk-serial::before {content: \"\";position: absolute;border-left: 1px solid gray;box-sizing: border-box;top: 0;bottom: 0;left: 50%;z-index: 0;}#sk-container-id-1 div.sk-serial {display: flex;flex-direction: column;align-items: center;background-color: white;padding-right: 0.2em;padding-left: 0.2em;position: relative;}#sk-container-id-1 div.sk-item {position: relative;z-index: 1;}#sk-container-id-1 div.sk-parallel {display: flex;align-items: stretch;justify-content: center;background-color: white;position: relative;}#sk-container-id-1 div.sk-item::before, #sk-container-id-1 div.sk-parallel-item::before {content: \"\";position: absolute;border-left: 1px solid gray;box-sizing: border-box;top: 0;bottom: 0;left: 50%;z-index: -1;}#sk-container-id-1 div.sk-parallel-item {display: flex;flex-direction: column;z-index: 1;position: relative;background-color: white;}#sk-container-id-1 div.sk-parallel-item:first-child::after {align-self: flex-end;width: 50%;}#sk-container-id-1 div.sk-parallel-item:last-child::after {align-self: flex-start;width: 50%;}#sk-container-id-1 div.sk-parallel-item:only-child::after {width: 0;}#sk-container-id-1 div.sk-dashed-wrapped {border: 1px dashed gray;margin: 0 0.4em 0.5em 0.4em;box-sizing: border-box;padding-bottom: 0.4em;background-color: white;}#sk-container-id-1 div.sk-label label {font-family: monospace;font-weight: bold;display: inline-block;line-height: 1.2em;}#sk-container-id-1 div.sk-label-container {text-align: center;}#sk-container-id-1 div.sk-container {/* jupyter's `normalize.less` sets `[hidden] { display: none; }` but bootstrap.min.css set `[hidden] { display: none !important; }` so we also need the `!important` here to be able to override the default hidden behavior on the sphinx rendered scikit-learn.org. See: https://github.com/scikit-learn/scikit-learn/issues/21755 */display: inline-block !important;position: relative;}#sk-container-id-1 div.sk-text-repr-fallback {display: none;}</style><div id=\"sk-container-id-1\" class=\"sk-top-container\"><div class=\"sk-text-repr-fallback\"><pre>LogisticRegression(C=0.01, l1_ratio=0.5, penalty=&#x27;elasticnet&#x27;, solver=&#x27;saga&#x27;)</pre><b>In a Jupyter environment, please rerun this cell to show the HTML representation or trust the notebook. <br />On GitHub, the HTML representation is unable to render, please try loading this page with nbviewer.org.</b></div><div class=\"sk-container\" hidden><div class=\"sk-item\"><div class=\"sk-estimator sk-toggleable\"><input class=\"sk-toggleable__control sk-hidden--visually\" id=\"sk-estimator-id-1\" type=\"checkbox\" checked><label for=\"sk-estimator-id-1\" class=\"sk-toggleable__label sk-toggleable__label-arrow\">LogisticRegression</label><div class=\"sk-toggleable__content\"><pre>LogisticRegression(C=0.01, l1_ratio=0.5, penalty=&#x27;elasticnet&#x27;, solver=&#x27;saga&#x27;)</pre></div></div></div></div></div>"
      ],
      "text/plain": [
       "LogisticRegression(C=0.01, l1_ratio=0.5, penalty='elasticnet', solver='saga')"
      ]
     },
     "execution_count": 9,
     "metadata": {},
     "output_type": "execute_result"
    }
   ],
   "source": [
    "#fit best model\n",
    "model = LogisticRegression(penalty='elasticnet', solver='saga', C=0.01, l1_ratio=0.5)\n",
    "model.fit(X_train, y_train.ravel())"
   ]
  },
  {
   "cell_type": "code",
   "execution_count": 10,
   "metadata": {},
   "outputs": [],
   "source": [
    "#get residue model weights\n",
    "resWeights = model.coef_[0][2:52]*-1\n",
    "#get pairwise epistasis model weights\n",
    "pairWeights = model.coef_[0][52:]*-1"
   ]
  },
  {
   "cell_type": "code",
   "execution_count": 15,
   "metadata": {},
   "outputs": [
    {
     "data": {
      "text/plain": [
       "-0.30207033962722446"
      ]
     },
     "execution_count": 15,
     "metadata": {},
     "output_type": "execute_result"
    }
   ],
   "source": [
    "#correlation between weights and log of kd values\n",
    "corr, _ = pearsonr(np.log(kds), resWeights)\n",
    "corr"
   ]
  },
  {
   "cell_type": "code",
   "execution_count": 16,
   "metadata": {},
   "outputs": [
    {
     "data": {
      "text/plain": [
       "0.05582135958189579"
      ]
     },
     "execution_count": 16,
     "metadata": {},
     "output_type": "execute_result"
    }
   ],
   "source": [
    "#correlation between weights and pairwise epistasis\n",
    "corr, _ = pearsonr(epistasis, pairWeights)\n",
    "corr"
   ]
  },
  {
   "cell_type": "code",
   "execution_count": 17,
   "metadata": {},
   "outputs": [
    {
     "data": {
      "image/png": "[encoded data removed]",
      "text/plain": [
       "<Figure size 640x480 with 1 Axes>"
      ]
     },
     "metadata": {},
     "output_type": "display_data"
    }
   ],
   "source": [
    "#plot log of kd values vs model weights\n",
    "import matplotlib.pyplot as plt\n",
    "plt.scatter(np.log(kds), resWeights)\n",
    "plt.xlabel('log kd')\n",
    "plt.ylabel('residue weight')\n",
    "plt.show()"
   ]
  },
  {
   "cell_type": "code",
   "execution_count": 18,
   "metadata": {},
   "outputs": [
    {
     "data": {
      "image/png": "[encoded data removed]",
      "text/plain": [
       "<Figure size 640x480 with 1 Axes>"
      ]
     },
     "metadata": {},
     "output_type": "display_data"
    }
   ],
   "source": [
    "#plot pairwise epistasis vs model weights\n",
    "plt.scatter(epistasis, pairWeights)\n",
    "plt.xlabel('pairwise epistasis')\n",
    "plt.ylabel('pairwise weight')\n",
    "plt.show()"
   ]
  },
  {
   "cell_type": "code",
   "execution_count": null,
   "metadata": {},
   "outputs": [],
   "source": []
  }
 ],
 "metadata": {
  "kernelspec": {
   "display_name": "Python 3.10.6 ('ds_base')",
   "language": "python",
   "name": "python3"
  },
  "language_info": {
   "codemirror_mode": {
    "name": "ipython",
    "version": 3
   },
   "file_extension": ".py",
   "mimetype": "text/x-python",
   "name": "python",
   "nbconvert_exporter": "python",
   "pygments_lexer": "ipython3",
   "version": "3.10.6"
  },
  "orig_nbformat": 4,
  "vscode": {
   "interpreter": {
    "hash": "ab3f303470761c6fb486e443325a396c5c7e89ac3c230d3d324ab79679eddd12"
   }
  }
 },
 "nbformat": 4,
 "nbformat_minor": 2
}
