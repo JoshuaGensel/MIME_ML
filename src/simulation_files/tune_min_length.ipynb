{
 "cells": [
  {
   "cell_type": "code",
   "execution_count": 2,
   "metadata": {},
   "outputs": [],
   "source": [
    "from scipy import stats\n",
    "# tuning minimum length of reads"
   ]
  },
  {
   "cell_type": "code",
   "execution_count": 3,
   "metadata": {},
   "outputs": [
    {
     "name": "stdout",
     "output_type": "stream",
     "text": [
      "min_length = 0, prob_read = 0.00, prob_background = 0.90\n",
      "min_length = 10, prob_read = 0.20, prob_background = 0.87\n",
      "min_length = 20, prob_read = 0.37, prob_background = 0.84\n",
      "min_length = 30, prob_read = 0.49, prob_background = 0.80\n",
      "min_length = 40, prob_read = 0.60, prob_background = 0.74\n",
      "min_length = 50, prob_read = 0.68, prob_background = 0.68\n",
      "min_length = 60, prob_read = 0.74, prob_background = 0.60\n",
      "min_length = 70, prob_read = 0.80, prob_background = 0.49\n",
      "min_length = 80, prob_read = 0.84, prob_background = 0.37\n",
      "min_length = 90, prob_read = 0.87, prob_background = 0.20\n"
     ]
    }
   ],
   "source": [
    "# set mutation rate\n",
    "p = 0.0225\n",
    "# set sequence length\n",
    "L = 100\n",
    "\n",
    "# iterate through n in steps of 10\n",
    "for n in range(0, L, 10):\n",
    "    # compute probability of one or more successes\n",
    "    binomial_read = stats.binom(n, p)\n",
    "    prob_read = 1 - binomial_read.cdf(0)\n",
    "    binomial_background = stats.binom(100-n, p)\n",
    "    prob_background = 1 - binomial_background.cdf(0)\n",
    "    # print results\n",
    "    print(f\"min_length = {n}, prob_read = {prob_read:.2f}, prob_background = {prob_background:.2f}\")\n",
    "    "
   ]
  },
  {
   "cell_type": "code",
   "execution_count": null,
   "metadata": {},
   "outputs": [],
   "source": []
  }
 ],
 "metadata": {
  "kernelspec": {
   "display_name": "baseML",
   "language": "python",
   "name": "python3"
  },
  "language_info": {
   "codemirror_mode": {
    "name": "ipython",
    "version": 3
   },
   "file_extension": ".py",
   "mimetype": "text/x-python",
   "name": "python",
   "nbconvert_exporter": "python",
   "pygments_lexer": "ipython3",
   "version": "3.9.15"
  },
  "orig_nbformat": 4
 },
 "nbformat": 4,
 "nbformat_minor": 2
}
