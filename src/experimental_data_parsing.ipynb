{
 "cells": [
  {
   "cell_type": "code",
   "execution_count": 26,
   "metadata": {},
   "outputs": [],
   "source": [
    "import numpy as np\n",
    "import matplotlib.pyplot as plt\n",
    "import pandas as pd\n",
    "import seaborn as sns\n",
    "import re"
   ]
  },
  {
   "cell_type": "code",
   "execution_count": 30,
   "metadata": {},
   "outputs": [],
   "source": [
    "# set path to experimental data\n",
    "data_dir = '../data/test_files/experimental/'\n",
    "file_path_reads_left = data_dir + 'left.1.sam'\n",
    "file_path_reads_right = data_dir + 'right.2.sam'"
   ]
  },
  {
   "cell_type": "code",
   "execution_count": 65,
   "metadata": {},
   "outputs": [],
   "source": [
    "# load sam files for bound 8 8, left and right reads\n",
    "# skip header\n",
    "# only read in first 10 columns\n",
    "# read in the left and right reads line by line\n",
    "with open(file_path_reads_left, 'r') as reads_file_left:\n",
    "    reads_left = reads_file_left.readlines()\n",
    "    # remove the new line character at the end of each line\n",
    "    reads_left = [read.strip() for read in reads_left]\n",
    "\n",
    "with open(file_path_reads_right, 'r') as reads_file_right:\n",
    "    reads_right = reads_file_right.readlines()\n",
    "    # remove the new line character at the end of each line\n",
    "    reads_right = [read.strip() for read in reads_right]\n",
    "\n",
    "# remove first 3 lines from both left and right reads\n",
    "reads_left = reads_left[3:]\n",
    "reads_right = reads_right[3:]\n",
    "\n",
    "# separate lines at tab character\n",
    "reads_left = [read.split('\\t') for read in reads_left]\n",
    "reads_right = [read.split('\\t') for read in reads_right]\n",
    "\n",
    "# check if column 1 of left and right reads match\n",
    "for i in range(len(reads_left)):\n",
    "    if reads_left[i][0] != reads_right[i][0]:\n",
    "        raise Exception('Error: reads are not in the same order')\n",
    "    \n",
    "# only use columns 2,3,4,5,6,10 and 11\n",
    "reads_left = [[read[1], read[2], read[3], read[4], read[5], read[9], read[10]] for read in reads_left]\n",
    "reads_right = [[read[1], read[2], read[3], read[4], read[5], read[9], read[10]] for read in reads_right]\n",
    "\n",
    "# print(reads_left[0])\n",
    "# print(reads_right[0])\n",
    "\n",
    "# convert to numpy array of strings\n",
    "reads_left = np.array(reads_left, dtype='str')\n",
    "reads_right = np.array(reads_right, dtype='str')\n",
    "\n",
    "# only keep reads with flag value 0 or 16 in left and flag value 0 or 16 in right\n",
    "indices_left = np.where((reads_left[:,0] == '0') | (reads_left[:,0] == '16'))\n",
    "indices_right = np.where((reads_right[:,0] == '0') | (reads_right[:,0] == '16'))\n",
    "indices = np.intersect1d(indices_left, indices_right)\n",
    "reads_left = reads_left[indices]\n",
    "reads_right = reads_right[indices]\n",
    "\n",
    "# print('Number of reads after flag filtering: ', len(reads_left))\n",
    "\n",
    "# only keep reads with MAPQ value >= 70 in left and right\n",
    "indices_left = np.where(reads_left[:,3].astype('int') >= 70)\n",
    "indices_right = np.where(reads_right[:,3].astype('int') >= 70)\n",
    "indices = np.intersect1d(indices_left, indices_right)\n",
    "reads_left = reads_left[indices]\n",
    "reads_right = reads_right[indices]\n",
    "\n",
    "# print('Number of reads after MAPQ filtering: ', len(reads_left))\n",
    "\n",
    "# only keep reads with CIGAR strings that do not contain 'I' or 'D' in left and right\n",
    "indices = np.where((np.char.find(reads_left[:,4], 'I') == -1) & (np.char.find(reads_left[:,4], 'D') == -1) & (np.char.find(reads_right[:,4], 'I') == -1) & (np.char.find(reads_right[:,4], 'D') == -1))\n",
    "reads_left = reads_left[indices]\n",
    "reads_right = reads_right[indices]"
   ]
  },
  {
   "cell_type": "code",
   "execution_count": 134,
   "metadata": {},
   "outputs": [],
   "source": [
    "# parse cigar string into binary string where 1 indicates a match and 0 indicates a mismatch\n",
    "def parse_cigar(cigar_string):\n",
    "    # get only numbers from cigar string\n",
    "    numbers = re.findall(r'\\d+', cigar_string)\n",
    "    # get only letters from cigar string\n",
    "    letters = re.findall(r'[A-Z]', cigar_string)\n",
    "    # iterate through numbers\n",
    "    sequence = ''\n",
    "    for i in range(len(numbers)):\n",
    "        # if letter is not a valid symbol, set number to 0\n",
    "        if letters[i] == 'M':\n",
    "            sequence += '1' * int(numbers[i])\n",
    "        else:\n",
    "            sequence += '0' * int(numbers[i])\n",
    "    return sequence\n",
    "\n",
    "# parse quality string into binary string where 1 indicates a high quality base and 0 indicates a low quality base\n",
    "def parse_quality(quality_string):\n",
    "    valid_symbols = ('?', \"@\", 'A', 'B', 'C', 'D', 'E', 'F', 'G', 'H', 'I')\n",
    "    sequence = ''\n",
    "    for i in range(len(quality_string)):\n",
    "        if quality_string[i] in valid_symbols:\n",
    "            sequence += '1'\n",
    "        else:\n",
    "            sequence += '0'\n",
    "    return sequence\n",
    "\n",
    "# combine cigar and quality strings into one binary string\n",
    "def parse_cigar_quality(cigar_string, quality_string):\n",
    "    quality_seq = parse_quality(quality_string)\n",
    "    cigar_seq = parse_cigar(cigar_string)\n",
    "    sequence = ''\n",
    "    for i in range(len(cigar_seq)):\n",
    "        if cigar_seq[i] == '1' and quality_seq[i] == '1':\n",
    "            sequence += '1'\n",
    "        else:\n",
    "            sequence += '0'\n",
    "    return sequence\n",
    "\n",
    "def parse_sequence(sequence, cigar_string, quality_string):\n",
    "    valid_symbols = ('A', 'C', 'G', 'T')\n",
    "    checked_seq = parse_cigar_quality(cigar_string, quality_string)\n",
    "    parsed_sequence = ''\n",
    "    for i in range(len(checked_seq)):\n",
    "        if checked_seq[i] == '1' and sequence[i] in valid_symbols:\n",
    "            parsed_sequence += sequence[i]\n",
    "        else:\n",
    "            parsed_sequence += '0'\n",
    "    return parsed_sequence\n",
    "\n",
    "def align_fragment(length_sequence, pos, cigar_string, sequence, quality_string):\n",
    "    parsed_sequence = parse_sequence(sequence, cigar_string, quality_string)\n",
    "    # get only numbers from cigar string\n",
    "    numbers = re.findall(r'\\d+', cigar_string)\n",
    "    # get only letters from cigar string\n",
    "    letters = re.findall(r'[A-Z]', cigar_string)\n",
    "    offset = 0\n",
    "    # iterate through letters till find M\n",
    "    for i in range(len(letters)):\n",
    "        if letters[i] != 'M':\n",
    "            offset += int(numbers[i])\n",
    "        else:\n",
    "            break\n",
    "    aligned_sequence = ''\n",
    "    # add pos - 1 0s to the beginning of the sequence\n",
    "    aligned_sequence += '0' * (pos - 1 - offset)\n",
    "    # add parsed sequence to the end of the sequence\n",
    "    aligned_sequence += parsed_sequence\n",
    "    # add 0s to the end of the sequence\n",
    "    aligned_sequence += '0' * (length_sequence - len(aligned_sequence))\n",
    "    return aligned_sequence\n",
    "\n",
    "# merge aligned sequences\n",
    "def merge_sequences(left_sequence, right_sequence, length_sequence):\n",
    "    merged_sequence = ''\n",
    "    for i in range(length_sequence):\n",
    "        if left_sequence[i] == right_sequence[i]:\n",
    "            merged_sequence += left_sequence[i]\n",
    "        # if left sequence is 0, add right sequence\n",
    "        elif left_sequence[i] == '0':\n",
    "            merged_sequence += right_sequence[i]\n",
    "        # if right sequence is 0, add left sequence\n",
    "        elif right_sequence[i] == '0':\n",
    "            merged_sequence += left_sequence[i]\n",
    "        # if left and right sequences are different, add 0\n",
    "        else:\n",
    "            merged_sequence += '0'\n",
    "\n",
    "    return merged_sequence"
   ]
  },
  {
   "cell_type": "code",
   "execution_count": 135,
   "metadata": {},
   "outputs": [
    {
     "name": "stdout",
     "output_type": "stream",
     "text": [
      "(10, 7)\n",
      "(10, 7)\n",
      "['0' '5NL43' '21' '70' '6S70M'\n",
      " 'GACCATATCTGAGCCTGGGAGCTCTCTGGCTAACTAGGGAACCCACTGCTTAAGCCTCGATAAAGCCTGCCTTGAG'\n",
      " 'A/AAAEEAEEEAEEEEEEEEEEEEAEAEEEAEEEAEEEE//EEE/EAEE/EE/EEEEEEEAEEEEAEEEEAE/EEE']\n",
      "['16' '5NL43' '230' '70' '75M1S'\n",
      " 'TCTCGACACAGGACTCGGCTTGCTGAAGCGCGCACGGCAAGAGGCGAGGGGCGGCGACTGGTGAGTACGCCAAAAT'\n",
      " '<E/EEEEAEEEE/E<EEEE/EEE/E/EAEAEEEEEEEEEAEAEEEEEEEEEEEEEEEEEEE/EEEEEEEEEAAAAA']\n"
     ]
    }
   ],
   "source": [
    "print(reads_left.shape)\n",
    "print(reads_right.shape)\n",
    "print(reads_left[0])\n",
    "print(reads_right[0])"
   ]
  },
  {
   "cell_type": "code",
   "execution_count": 137,
   "metadata": {},
   "outputs": [
    {
     "name": "stdout",
     "output_type": "stream",
     "text": [
      "535\n",
      "GGTCTCTCTGGTTAGACCAGATCTGAGCCTGGGAGCTCTCTGGCTAACTAGGGAACCCACTGCTTAAGCCTCAATAAAGCTTGCCTTGAGTGCTCAAAGTAGTGTGTGCCCGTCTGTTGTGTGACTCTGGTAACTAGAGATCCCTCAGACCCTTTTAGTCAGTGTGGAAAATCTCTAGCAGTGGCGCCCGAACAGGGACTTGAAAGCGAAAGTAAAGCCAGAGGAGATCTCTCGACGCAGGACTCGGCTTGCTGAAGCGCGCACGGCAAGAGGCGAGGGGCGGCGACTGGTGAGTACGCCAAAAATTTTGACTAGCGGAGGCTAGAAGGAGAGAGATGGGTGCGAGAGCGTCGGTATTAAGCGGGGGAGAATTAGATAAATGGGAAAAAATTCGGTTAAGGCCAGGGGGAAAGAAACAATATAAACTAAAACATATAGTATGGGCAAGCAGGGAGCTAGAACGATTCGCAGTTAATCCTGGCCTTTTAGAGACATCAGAAGGCTGTAGACAAATACTGGGACAGCTACAACCATC\n"
     ]
    }
   ],
   "source": [
    "# load wildtype sequence\n",
    "file_path_wildtype = '../data/experimental_data/5NL43.txt'\n",
    "# set sequence length to length of wildtype sequence\n",
    "with open(file_path_wildtype, 'r') as wildtype_file:\n",
    "    # get line that doesn't start with '>'\n",
    "    for line in wildtype_file:\n",
    "        if not line.startswith('>'):\n",
    "            sequence_length = len(line.strip())\n",
    "            wildtype_sequence = line.strip()\n",
    "            break\n",
    "            \n",
    "\n",
    "print(sequence_length)\n",
    "print(wildtype_sequence)"
   ]
  },
  {
   "cell_type": "code",
   "execution_count": 138,
   "metadata": {},
   "outputs": [
    {
     "name": "stdout",
     "output_type": "stream",
     "text": [
      "00000000000000000000ATCTGAGCCTGGGAGCTCTCTGGCTAACTAGGG00CCC0CTGC0TA0GCCTCGATAAAGCCTGCCT0GAG0000000000000000000000000000000000000000000000000000000000000000000000000000000000000000000000000000000000000000000000000000000000000000000000000000000000000000000000000000000000000000000000000000000000000000000000000000000000000000000000000000000000000000000000000000000000000000000000000000000000000000000000000000000000000000000000000000000000000000000000000000000000000000000000000000000000000000000000000000000000000000000000000000000000000\n",
      "00000000000000000000000000000000000000000000000000000000000000000000000000000000000000000000000000000000000000000000000000000000000000000000000000000000000000000000000000000000000000000000000000000000000000000000000000000000000000C0CGACACAGG0C0CGGC0TGC0G0AGCGCGCACGGCAAGAGGCGAGGGGCGGCGACTGG0GAGTACGCCAAAA000000000000000000000000000000000000000000000000000000000000000000000000000000000000000000000000000000000000000000000000000000000000000000000000000000000000000000000000000000000000000000000000000000000000000000000000000000000000000\n",
      "GGTCTCTCTGGTTAGACCAGATCTGAGCCTGGGAGCTCTCTGGCTAACTAGGGAACCCACTGCTTAAGCCTCAATAAAGCTTGCCTTGAGTGCTCAAAGTAGTGTGTGCCCGTCTGTTGTGTGACTCTGGTAACTAGAGATCCCTCAGACCCTTTTAGTCAGTGTGGAAAATCTCTAGCAGTGGCGCCCGAACAGGGACTTGAAAGCGAAAGTAAAGCCAGAGGAGATCTCTCGACGCAGGACTCGGCTTGCTGAAGCGCGCACGGCAAGAGGCGAGGGGCGGCGACTGGTGAGTACGCCAAAAATTTTGACTAGCGGAGGCTAGAAGGAGAGAGATGGGTGCGAGAGCGTCGGTATTAAGCGGGGGAGAATTAGATAAATGGGAAAAAATTCGGTTAAGGCCAGGGGGAAAGAAACAATATAAACTAAAACATATAGTATGGGCAAGCAGGGAGCTAGAACGATTCGCAGTTAATCCTGGCCTTTTAGAGACATCAGAAGGCTGTAGACAAATACTGGGACAGCTACAACCATC\n"
     ]
    }
   ],
   "source": [
    "left_seq = align_fragment(sequence_length, 21, '6S70M', 'GACCATATCTGAGCCTGGGAGCTCTCTGGCTAACTAGGGAACCCACTGCTTAAGCCTCGATAAAGCCTGCCTTGAG', 'A/AAAEEAEEEAEEEEEEEEEEEEAEAEEEAEEEAEEEE//EEE/EAEE/EE/EEEEEEEAEEEEAEEEEAE/EEE')\n",
    "right_seq = align_fragment(sequence_length, 230, '75M1S', 'TCTCGACACAGGACTCGGCTTGCTGAAGCGCGCACGGCAAGAGGCGAGGGGCGGCGACTGGTGAGTACGCCAAAAT', '<E/EEEEAEEEE/E<EEEE/EEE/E/EAEAEEEEEEEEEAEAEEEEEEEEEEEEEEEEEEE/EEEEEEEEEAAAAA')\n",
    "print(left_seq)\n",
    "print(right_seq)\n",
    "print(wildtype_sequence)"
   ]
  },
  {
   "cell_type": "code",
   "execution_count": 139,
   "metadata": {},
   "outputs": [
    {
     "name": "stdout",
     "output_type": "stream",
     "text": [
      "00000000000000000000ATCTGAGCCTGGGAGCTCTCTGGCTAACTAGGG00CCC0CTGC0TA0GCCTCGATAAAGCCTGCCT0GAG00000000000000000000000000000000000000000000000000000000000000000000000000000000000000000000000000000000000000000000000000000000000000000000C0CGACACAGG0C0CGGC0TGC0G0AGCGCGCACGGCAAGAGGCGAGGGGCGGCGACTGG0GAGTACGCCAAAA000000000000000000000000000000000000000000000000000000000000000000000000000000000000000000000000000000000000000000000000000000000000000000000000000000000000000000000000000000000000000000000000000000000000000000000000000000000000000\n",
      "GGTCTCTCTGGTTAGACCAGATCTGAGCCTGGGAGCTCTCTGGCTAACTAGGGAACCCACTGCTTAAGCCTCAATAAAGCTTGCCTTGAGTGCTCAAAGTAGTGTGTGCCCGTCTGTTGTGTGACTCTGGTAACTAGAGATCCCTCAGACCCTTTTAGTCAGTGTGGAAAATCTCTAGCAGTGGCGCCCGAACAGGGACTTGAAAGCGAAAGTAAAGCCAGAGGAGATCTCTCGACGCAGGACTCGGCTTGCTGAAGCGCGCACGGCAAGAGGCGAGGGGCGGCGACTGGTGAGTACGCCAAAAATTTTGACTAGCGGAGGCTAGAAGGAGAGAGATGGGTGCGAGAGCGTCGGTATTAAGCGGGGGAGAATTAGATAAATGGGAAAAAATTCGGTTAAGGCCAGGGGGAAAGAAACAATATAAACTAAAACATATAGTATGGGCAAGCAGGGAGCTAGAACGATTCGCAGTTAATCCTGGCCTTTTAGAGACATCAGAAGGCTGTAGACAAATACTGGGACAGCTACAACCATC\n"
     ]
    }
   ],
   "source": [
    "print(merge_sequences(left_seq, right_seq, sequence_length))\n",
    "print(wildtype_sequence)"
   ]
  },
  {
   "cell_type": "code",
   "execution_count": 140,
   "metadata": {},
   "outputs": [
    {
     "name": "stdout",
     "output_type": "stream",
     "text": [
      "['16' '5NL43' '414' '70' '71M5S'\n",
      " 'AAACAATATAAACTAAAACATATAGTATGGGCAAGCAGGGAGCTAGAACGATTCGCAGTTAATCCTGGCCTGTTAG'\n",
      " 'EEEAEE6EEE/AEEEE/EEEEEAEEEEEEAEEE/EEEE/EEEEEEEEEEEEAEE/EEE/EE/EEEEE/EEEAAAAA']\n",
      "['0' '5NL43' '324' '70' '76M'\n",
      " 'AGAAGGAGAGAGATGGGAGCGAGAGCGTCGGGATTAAGCGGGGGAGAATTAGATAAATGGGAAAAAATTCGGTTAA'\n",
      " 'AAA6AEAEA<E//EEAE/EAEEEEEEEEEAE/EEEEEAEEEEEEEEEEEEEEE</A/EEEEE/EEEEAEEEEEEEA']\n"
     ]
    }
   ],
   "source": [
    "print(reads_left[2])\n",
    "print(reads_right[2])"
   ]
  },
  {
   "cell_type": "code",
   "execution_count": 141,
   "metadata": {},
   "outputs": [
    {
     "name": "stdout",
     "output_type": "stream",
     "text": [
      "00000000000000000000000000000000000000000000000000000000000000000000000000000000000000000000000000000000000000000000000000000000000000000000000000000000000000000000000000000000000000000000000000000000000000000000000000000000000000000000000000000000000000000000000000000000000000000000000000000000000000000000000000000000000000000000000000000000000000000000000000000000000000000000000000000000000000000000000000000AAACAA0ATA0ACTAA0ACATATAGTATGGGCA0GCAG0GAGCTAGAACGATTC0CAG0TA0TCCTG0CCT000000000000000000000000000000000000000000000000000\n",
      "00000000000000000000000000000000000000000000000000000000000000000000000000000000000000000000000000000000000000000000000000000000000000000000000000000000000000000000000000000000000000000000000000000000000000000000000000000000000000000000000000000000000000000000000000000000000000000000000000000000000000000000000000000000000AGA0GGAGA0A00TGGG0GCGAGAGCGTCGG0ATTAAGCGGGGGAGAATTAGA00A0TGGGA0AAAATTCGGTTAA0000000000000000000000000000000000000000000000000000000000000000000000000000000000000000000000000000000000000000000000000000000000000000\n",
      "GGTCTCTCTGGTTAGACCAGATCTGAGCCTGGGAGCTCTCTGGCTAACTAGGGAACCCACTGCTTAAGCCTCAATAAAGCTTGCCTTGAGTGCTCAAAGTAGTGTGTGCCCGTCTGTTGTGTGACTCTGGTAACTAGAGATCCCTCAGACCCTTTTAGTCAGTGTGGAAAATCTCTAGCAGTGGCGCCCGAACAGGGACTTGAAAGCGAAAGTAAAGCCAGAGGAGATCTCTCGACGCAGGACTCGGCTTGCTGAAGCGCGCACGGCAAGAGGCGAGGGGCGGCGACTGGTGAGTACGCCAAAAATTTTGACTAGCGGAGGCTAGAAGGAGAGAGATGGGTGCGAGAGCGTCGGTATTAAGCGGGGGAGAATTAGATAAATGGGAAAAAATTCGGTTAAGGCCAGGGGGAAAGAAACAATATAAACTAAAACATATAGTATGGGCAAGCAGGGAGCTAGAACGATTCGCAGTTAATCCTGGCCTTTTAGAGACATCAGAAGGCTGTAGACAAATACTGGGACAGCTACAACCATC\n"
     ]
    }
   ],
   "source": [
    "left_seq = align_fragment(sequence_length, 414, reads_left[2][4], reads_left[2][5], reads_left[2][6])\n",
    "right_seq = align_fragment(sequence_length, 324, reads_right[2][4], reads_right[2][5], reads_right[2][6])\n",
    "print(left_seq)\n",
    "print(right_seq)\n",
    "print(wildtype_sequence)"
   ]
  },
  {
   "cell_type": "code",
   "execution_count": 142,
   "metadata": {},
   "outputs": [
    {
     "name": "stdout",
     "output_type": "stream",
     "text": [
      "['16' '5NL43' '389' '70' '76M'\n",
      " 'AATTCGGTTAAGGCCAGGGGGAAAGAAACAATATACACTAAAACATATAGTATGGGCAAGCAGGGAGCTAGAACGA'\n",
      " 'EEE/<6A/EEEEE<<<EEE//EE</EEAAEEEEAE/EA6EEEEEEA/E/<E//AEE/EAE//EEEEE6EEE/AAAA']\n",
      "['0' '5NL43' '328' '70' '76M'\n",
      " 'GGAGAGAGATGGGTGCGAGAGCGTCGGTATTAAGCGGGGGAGAATTAGATAAATGGGAAAAAATTCGGTTAAGGCC'\n",
      " 'AAAAAEEEEEEEEEEEEEEEEEEEEEEEEEEEEEEEEEAEEEEEEEEEEEEEEEEEEEEEEEEEEEEEAAEEEEEE']\n"
     ]
    }
   ],
   "source": [
    "print(reads_left[3])\n",
    "print(reads_right[3])"
   ]
  },
  {
   "cell_type": "code",
   "execution_count": 143,
   "metadata": {},
   "outputs": [
    {
     "name": "stdout",
     "output_type": "stream",
     "text": [
      "0000000000000000000000000000000000000000000000000000000000000000000000000000000000000000000000000000000000000000000000000000000000000000000000000000000000000000000000000000000000000000000000000000000000000000000000000000000000000000000000000000000000000000000000000000000000000000000000000000000000000000000000000000000000000000000000000000000000000000000000000000000000000000000000000000AAT000G0TAAGG000GGG00AA00AAACAATATA0AC0AAAACAT0T00T00GGG0AAG00GGGAG0TAG0ACGA00000000000000000000000000000000000000000000000000000000000000000000000\n",
      "000000000000000000000000000000000000000000000000000000000000000000000000000000000000000000000000000000000000000000000000000000000000000000000000000000000000000000000000000000000000000000000000000000000000000000000000000000000000000000000000000000000000000000000000000000000000000000000000000000000000000000000000000000000000000GGAGAGAGATGGGTGCGAGAGCGTCGGTATTAAGCGGGGGAGAATTAGATAAATGGGAAAAAATTCGGTTAAGGCC000000000000000000000000000000000000000000000000000000000000000000000000000000000000000000000000000000000000000000000000000000000000\n",
      "GGTCTCTCTGGTTAGACCAGATCTGAGCCTGGGAGCTCTCTGGCTAACTAGGGAACCCACTGCTTAAGCCTCAATAAAGCTTGCCTTGAGTGCTCAAAGTAGTGTGTGCCCGTCTGTTGTGTGACTCTGGTAACTAGAGATCCCTCAGACCCTTTTAGTCAGTGTGGAAAATCTCTAGCAGTGGCGCCCGAACAGGGACTTGAAAGCGAAAGTAAAGCCAGAGGAGATCTCTCGACGCAGGACTCGGCTTGCTGAAGCGCGCACGGCAAGAGGCGAGGGGCGGCGACTGGTGAGTACGCCAAAAATTTTGACTAGCGGAGGCTAGAAGGAGAGAGATGGGTGCGAGAGCGTCGGTATTAAGCGGGGGAGAATTAGATAAATGGGAAAAAATTCGGTTAAGGCCAGGGGGAAAGAAACAATATAAACTAAAACATATAGTATGGGCAAGCAGGGAGCTAGAACGATTCGCAGTTAATCCTGGCCTTTTAGAGACATCAGAAGGCTGTAGACAAATACTGGGACAGCTACAACCATC\n"
     ]
    }
   ],
   "source": [
    "left_seq = align_fragment(sequence_length, 389, reads_left[3][4], reads_left[3][5], reads_left[3][6])\n",
    "right_seq = align_fragment(sequence_length, 328, reads_right[3][4], reads_right[3][5], reads_right[3][6])\n",
    "print(left_seq)\n",
    "print(right_seq)\n",
    "print(wildtype_sequence)"
   ]
  },
  {
   "cell_type": "code",
   "execution_count": 144,
   "metadata": {},
   "outputs": [
    {
     "name": "stdout",
     "output_type": "stream",
     "text": [
      "['16' '5NL43' '445' '70' '4S61M11S'\n",
      " 'TGGTCAAGCAGGGAGCTAGAACGATTCGCAGTTAATCCTGGCCTTTTAGAGACATCAGAAGGCTGCCGGCAAATAC'\n",
      " '<AE/EE<EE/EEAEE/EEAEEEEEEEEEEEEEEE/EEEEEAAEEEEEEEEEEEE6EEEEE/EEE<E/EAAEA/AAA']\n",
      "['0' '5NL43' '397' '70' '2S74M'\n",
      " 'GCTAAGGCCAGGGGGAAAGAAACAATATAAACTAAAACATATAGTATGGGCAAGCAGGGAGCTAGAACGATTCGCA'\n",
      " 'AAAAAAE/EAEEEEEEEEEAEEEEEEEAAEEEEEEEEEE6EEEAEEA/EAA/EEEEEEEEEEEAE/AEE//EEAEE']\n"
     ]
    }
   ],
   "source": [
    "print(reads_left[4])\n",
    "print(reads_right[4])"
   ]
  },
  {
   "cell_type": "code",
   "execution_count": 145,
   "metadata": {},
   "outputs": [
    {
     "name": "stdout",
     "output_type": "stream",
     "text": [
      "000000000000000000000000000000000000000000000000000000000000000000000000000000000000000000000000000000000000000000000000000000000000000000000000000000000000000000000000000000000000000000000000000000000000000000000000000000000000000000000000000000000000000000000000000000000000000000000000000000000000000000000000000000000000000000000000000000000000000000000000000000000000000000000000000000000000000000000000000000000000000000000000000000000000CA0GC0GGGAG0TAGAACGATTCGCAGTTA0TCCTGGCCTTTTAGAGACA0CAGAA0GCT0000000000000000000000000000000\n",
      "000000000000000000000000000000000000000000000000000000000000000000000000000000000000000000000000000000000000000000000000000000000000000000000000000000000000000000000000000000000000000000000000000000000000000000000000000000000000000000000000000000000000000000000000000000000000000000000000000000000000000000000000000000000000000000000000000000000000000000000000000000000000000000000000000000000000TAAGG0CAGGGGGAAAGAAACAATATAAACTAAAACA0ATAGTAT0GGC0AGCAGGGAGCTAG0ACG00TCGCA00000000000000000000000000000000000000000000000000000000000000000\n",
      "GGTCTCTCTGGTTAGACCAGATCTGAGCCTGGGAGCTCTCTGGCTAACTAGGGAACCCACTGCTTAAGCCTCAATAAAGCTTGCCTTGAGTGCTCAAAGTAGTGTGTGCCCGTCTGTTGTGTGACTCTGGTAACTAGAGATCCCTCAGACCCTTTTAGTCAGTGTGGAAAATCTCTAGCAGTGGCGCCCGAACAGGGACTTGAAAGCGAAAGTAAAGCCAGAGGAGATCTCTCGACGCAGGACTCGGCTTGCTGAAGCGCGCACGGCAAGAGGCGAGGGGCGGCGACTGGTGAGTACGCCAAAAATTTTGACTAGCGGAGGCTAGAAGGAGAGAGATGGGTGCGAGAGCGTCGGTATTAAGCGGGGGAGAATTAGATAAATGGGAAAAAATTCGGTTAAGGCCAGGGGGAAAGAAACAATATAAACTAAAACATATAGTATGGGCAAGCAGGGAGCTAGAACGATTCGCAGTTAATCCTGGCCTTTTAGAGACATCAGAAGGCTGTAGACAAATACTGGGACAGCTACAACCATC\n"
     ]
    }
   ],
   "source": [
    "left_seq = align_fragment(sequence_length, 445, reads_left[4][4], reads_left[4][5], reads_left[4][6])\n",
    "right_seq = align_fragment(sequence_length, 397, reads_right[4][4], reads_right[4][5], reads_right[4][6])\n",
    "print(left_seq)\n",
    "print(right_seq)\n",
    "print(wildtype_sequence)"
   ]
  },
  {
   "cell_type": "code",
   "execution_count": 146,
   "metadata": {},
   "outputs": [],
   "source": [
    "# position describes FIRST MATCHING BASE not first base"
   ]
  }
 ],
 "metadata": {
  "kernelspec": {
   "display_name": "baseML",
   "language": "python",
   "name": "python3"
  },
  "language_info": {
   "codemirror_mode": {
    "name": "ipython",
    "version": 3
   },
   "file_extension": ".py",
   "mimetype": "text/x-python",
   "name": "python",
   "nbconvert_exporter": "python",
   "pygments_lexer": "ipython3",
   "version": "3.9.15"
  },
  "orig_nbformat": 4
 },
 "nbformat": 4,
 "nbformat_minor": 2
}
