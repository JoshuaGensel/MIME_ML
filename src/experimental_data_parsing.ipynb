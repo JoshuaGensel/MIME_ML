{
 "cells": [
  {
   "cell_type": "code",
   "execution_count": 21,
   "metadata": {},
   "outputs": [],
   "source": [
    "import numpy as np\n",
    "import matplotlib.pyplot as plt\n",
    "import pandas as pd\n",
    "import seaborn as sns\n",
    "import re"
   ]
  },
  {
   "cell_type": "code",
   "execution_count": 2,
   "metadata": {},
   "outputs": [],
   "source": [
    "# set path to experimental data\n",
    "data_dir = '../data/experimental_data/'"
   ]
  },
  {
   "cell_type": "code",
   "execution_count": 3,
   "metadata": {},
   "outputs": [],
   "source": [
    "# load sam files for bound 8 8, left and right reads\n",
    "# skip header\n",
    "# only read in first 10 columns\n",
    "bound_8_8_left = np.loadtxt(data_dir + '/secondFromProt8/prot8/GAG_BO_8_8.1.sam', dtype=str, delimiter='\\t', skiprows=3, usecols=[0,1,3,4,5,9,10])\n",
    "bound_8_8_right = np.loadtxt(data_dir + '/secondFromProt8/prot8/GAG_BO_8_8.2.sam', dtype=str, delimiter='\\t', skiprows=3, usecols=[0,1,3,4,5,9,10])"
   ]
  },
  {
   "cell_type": "code",
   "execution_count": 4,
   "metadata": {},
   "outputs": [
    {
     "name": "stdout",
     "output_type": "stream",
     "text": [
      "(3483872, 7)\n",
      "(3483872, 7)\n",
      "['NB500937:402:HY7YGAFXY:1:11101:24170:1067' '0' '21' '70' '6S70M'\n",
      " 'GACCATATCTGAGCCTGGGAGCTCTCTGGCTAACTAGGGAACCCACTGCTTAAGCCTCGATAAAGCCTGCCTTGAG'\n",
      " 'A/AAAEEAEEEAEEEEEEEEEEEEAEAEEEAEEEAEEEE//EEE/EAEE/EE/EEEEEEEAEEEEAEEEEAE/EEE']\n",
      "['NB500937:402:HY7YGAFXY:1:11101:24170:1067' '16' '230' '70' '75M1S'\n",
      " 'TCTCGACACAGGACTCGGCTTGCTGAAGCGCGCACGGCAAGAGGCGAGGGGCGGCGACTGGTGAGTACGCCAAAAT'\n",
      " '<E/EEEEAEEEE/E<EEEE/EEE/E/EAEAEEEEEEEEEAEAEEEEEEEEEEEEEEEEEEE/EEEEEEEEEAAAAA']\n"
     ]
    }
   ],
   "source": [
    "print(bound_8_8_left.shape)\n",
    "print(bound_8_8_right.shape)\n",
    "print(bound_8_8_left[0])\n",
    "print(bound_8_8_right[0])"
   ]
  },
  {
   "cell_type": "code",
   "execution_count": 5,
   "metadata": {},
   "outputs": [
    {
     "name": "stdout",
     "output_type": "stream",
     "text": [
      "['0' '16' '4']\n"
     ]
    }
   ],
   "source": [
    "# show all unique flag values for column 2\n",
    "print(np.unique(bound_8_8_left[:,1]))"
   ]
  },
  {
   "cell_type": "code",
   "execution_count": 6,
   "metadata": {},
   "outputs": [
    {
     "name": "stdout",
     "output_type": "stream",
     "text": [
      "(1327259, 7)\n",
      "(1327259, 7)\n"
     ]
    }
   ],
   "source": [
    "# get rid of all reads that have flag value 4 in either left or right read\n",
    "indices = np.where((bound_8_8_left[:,1] != '4') & (bound_8_8_right[:,1] != '4'))\n",
    "bound_8_8_left = bound_8_8_left[indices]\n",
    "bound_8_8_right = bound_8_8_right[indices]\n",
    "print(bound_8_8_left.shape)\n",
    "print(bound_8_8_right.shape)"
   ]
  },
  {
   "cell_type": "code",
   "execution_count": 7,
   "metadata": {},
   "outputs": [
    {
     "name": "stdout",
     "output_type": "stream",
     "text": [
      "(1326945, 7)\n",
      "(1326945, 7)\n"
     ]
    }
   ],
   "source": [
    "# get rid of all reads that have a mapping quality < 70 in either left or right read\n",
    "indices = np.where((bound_8_8_left[:,3].astype(int) >= 70) & (bound_8_8_right[:,3].astype(int) >= 70))\n",
    "bound_8_8_left = bound_8_8_left[indices]\n",
    "bound_8_8_right = bound_8_8_right[indices]\n",
    "print(bound_8_8_left.shape)\n",
    "print(bound_8_8_right.shape)"
   ]
  },
  {
   "cell_type": "code",
   "execution_count": 8,
   "metadata": {},
   "outputs": [
    {
     "name": "stdout",
     "output_type": "stream",
     "text": [
      "['0' '1' '2' '3' '4' '5' '6' '7' '8' '9' 'D' 'I' 'M' 'S']\n"
     ]
    }
   ],
   "source": [
    "# get all cigar strings\n",
    "cigar_strings = np.concatenate([bound_8_8_left[:,4], bound_8_8_right[:,4]])\n",
    "# get all unique letters that appear in cigar strings\n",
    "cigar_letters = np.unique(np.concatenate([list(x) for x in cigar_strings]))\n",
    "print(cigar_letters)"
   ]
  },
  {
   "cell_type": "code",
   "execution_count": 9,
   "metadata": {},
   "outputs": [
    {
     "name": "stdout",
     "output_type": "stream",
     "text": [
      "67081\n"
     ]
    }
   ],
   "source": [
    "# count the number of instances of \"I\" in the cigar strings\n",
    "insertions = np.sum([x.count('I') for x in cigar_strings])\n",
    "print(insertions)"
   ]
  },
  {
   "cell_type": "code",
   "execution_count": 10,
   "metadata": {},
   "outputs": [
    {
     "name": "stdout",
     "output_type": "stream",
     "text": [
      "94655\n"
     ]
    }
   ],
   "source": [
    "# count the number of instances of \"D\" in the cigar strings\n",
    "deletions = np.sum([x.count('D') for x in cigar_strings])\n",
    "print(deletions)"
   ]
  },
  {
   "cell_type": "code",
   "execution_count": 14,
   "metadata": {},
   "outputs": [
    {
     "name": "stdout",
     "output_type": "stream",
     "text": [
      "(1188258, 7)\n"
     ]
    }
   ],
   "source": [
    "# get rid of all reads that have an insertion or deletion in either left or right read\n",
    "# check if cigar string contains \"I\" or \"D\"\n",
    "indices = np.where((np.char.find(bound_8_8_left[:,4], 'I') == -1) & (np.char.find(bound_8_8_left[:,4], 'D') == -1) & (np.char.find(bound_8_8_right[:,4], 'I') == -1) & (np.char.find(bound_8_8_right[:,4], 'D') == -1))\n",
    "bound_8_8_left = bound_8_8_left[indices]\n",
    "bound_8_8_right = bound_8_8_right[indices]\n",
    "print(bound_8_8_left.shape)"
   ]
  },
  {
   "cell_type": "code",
   "execution_count": 16,
   "metadata": {},
   "outputs": [
    {
     "name": "stdout",
     "output_type": "stream",
     "text": [
      "0\n",
      "0\n"
     ]
    }
   ],
   "source": [
    "cigar_strings = np.concatenate([bound_8_8_left[:,4], bound_8_8_right[:,4]])\n",
    "insertions = np.sum([x.count('I') for x in cigar_strings])\n",
    "print(insertions)\n",
    "deletions = np.sum([x.count('D') for x in cigar_strings])\n",
    "print(deletions)"
   ]
  },
  {
   "cell_type": "code",
   "execution_count": 17,
   "metadata": {},
   "outputs": [
    {
     "name": "stdout",
     "output_type": "stream",
     "text": [
      "['A' 'C' 'G' 'N' 'T']\n"
     ]
    }
   ],
   "source": [
    "# get all sequences\n",
    "seqs = np.concatenate([bound_8_8_left[:,5], bound_8_8_right[:,5]])\n",
    "# get all unique letters that appear in sequences\n",
    "seq_letters = np.unique(np.concatenate([list(x) for x in seqs]))\n",
    "print(seq_letters)"
   ]
  },
  {
   "cell_type": "code",
   "execution_count": 12,
   "metadata": {},
   "outputs": [
    {
     "name": "stdout",
     "output_type": "stream",
     "text": [
      "2920\n"
     ]
    }
   ],
   "source": [
    "# count the number of instances of \"N\" in the sequences\n",
    "Ns = np.sum([x.count('N') for x in seqs])\n",
    "print(Ns)"
   ]
  },
  {
   "cell_type": "code",
   "execution_count": 13,
   "metadata": {},
   "outputs": [
    {
     "name": "stdout",
     "output_type": "stream",
     "text": [
      "True\n"
     ]
    }
   ],
   "source": [
    "# check if ids are the same for left and right reads\n",
    "print(np.all(bound_8_8_left[:,0] == bound_8_8_right[:,0]))"
   ]
  },
  {
   "cell_type": "code",
   "execution_count": 19,
   "metadata": {},
   "outputs": [
    {
     "name": "stdout",
     "output_type": "stream",
     "text": [
      "[['NB500937:402:HY7YGAFXY:1:11101:24170:1067' '0' '21' '70' '6S70M'\n",
      "  'GACCATATCTGAGCCTGGGAGCTCTCTGGCTAACTAGGGAACCCACTGCTTAAGCCTCGATAAAGCCTGCCTTGAG'\n",
      "  'A/AAAEEAEEEAEEEEEEEEEEEEAEAEEEAEEEAEEEE//EEE/EAEE/EE/EEEEEEEAEEEEAEEEEAE/EEE']]\n",
      "[['NB500937:402:HY7YGAFXY:1:11101:24170:1067' '16' '230' '70' '75M1S'\n",
      "  'TCTCGACACAGGACTCGGCTTGCTGAAGCGCGCACGGCAAGAGGCGAGGGGCGGCGACTGGTGAGTACGCCAAAAT'\n",
      "  '<E/EEEEAEEEE/E<EEEE/EEE/E/EAEAEEEEEEEEEAEAEEEEEEEEEEEEEEEEEEE/EEEEEEEEEAAAAA']]\n"
     ]
    }
   ],
   "source": [
    "print(bound_8_8_left[:1])\n",
    "print(bound_8_8_right[:1])"
   ]
  },
  {
   "cell_type": "code",
   "execution_count": 35,
   "metadata": {},
   "outputs": [
    {
     "name": "stdout",
     "output_type": "stream",
     "text": [
      "0000001111111111111111111111111111111111111111111111111111111111111111111111\n",
      "1111111111111111111111111111111111111111111111111111111111111111111111111110\n"
     ]
    }
   ],
   "source": [
    "# parse cigar string into binary string where 1 indicates a match and 0 indicates a mismatch\n",
    "def parse_cigar(cigar_string):\n",
    "    # get only numbers from cigar string\n",
    "    numbers = re.findall(r'\\d+', cigar_string)\n",
    "    # get only letters from cigar string\n",
    "    letters = re.findall(r'[A-Z]', cigar_string)\n",
    "    # iterate through numbers\n",
    "    sequence = ''\n",
    "    for i in range(len(numbers)):\n",
    "        # if letter is not a valid symbol, set number to 0\n",
    "        if letters[i] == 'M':\n",
    "            sequence += '1' * int(numbers[i])\n",
    "        else:\n",
    "            sequence += '0' * int(numbers[i])\n",
    "    return sequence\n",
    "\n",
    "\n",
    "\n",
    "print(parse_cigar('6S70M'))\n",
    "print(parse_cigar('75M1S'))"
   ]
  },
  {
   "cell_type": "code",
   "execution_count": 36,
   "metadata": {},
   "outputs": [
    {
     "name": "stdout",
     "output_type": "stream",
     "text": [
      "1011111111111111111111111111111111111110011101111011011111111111111111110111\n",
      "0101111111110101111011101011111111111111111111111111111111111011111111111111\n"
     ]
    }
   ],
   "source": [
    "# parse quality string into binary string where 1 indicates a high quality base and 0 indicates a low quality base\n",
    "def parse_quality(quality_string):\n",
    "    valid_symbols = ('?', \"@\", 'A', 'B', 'C', 'D', 'E', 'F', 'G', 'H', 'I')\n",
    "    sequence = ''\n",
    "    for i in range(len(quality_string)):\n",
    "        if quality_string[i] in valid_symbols:\n",
    "            sequence += '1'\n",
    "        else:\n",
    "            sequence += '0'\n",
    "    return sequence\n",
    "\n",
    "print(parse_quality('A/AAAEEAEEEAEEEEEEEEEEEEAEAEEEAEEEAEEEE//EEE/EAEE/EE/EEEEEEEAEEEEAEEEEAE/EEE'))\n",
    "print(parse_quality('<E/EEEEAEEEE/E<EEEE/EEE/E/EAEAEEEEEEEEEAEAEEEEEEEEEEEEEEEEEEE/EEEEEEEEEAAAAA'))"
   ]
  },
  {
   "cell_type": "code",
   "execution_count": 41,
   "metadata": {},
   "outputs": [
    {
     "name": "stdout",
     "output_type": "stream",
     "text": [
      "0000001111111111111111111111111111111110011101111011011111111111111111110111\n",
      "0101111111110101111011101011111111111111111111111111111111111011111111111110\n"
     ]
    }
   ],
   "source": [
    "# combine cigar and quality strings into one binary string\n",
    "def parse_cigar_quality(cigar_string, quality_string):\n",
    "    quality_seq = parse_quality(quality_string)\n",
    "    cigar_seq = parse_cigar(cigar_string)\n",
    "    sequence = ''\n",
    "    for i in range(len(cigar_seq)):\n",
    "        if cigar_seq[i] == '1' and quality_seq[i] == '1':\n",
    "            sequence += '1'\n",
    "        else:\n",
    "            sequence += '0'\n",
    "    return sequence\n",
    "\n",
    "print(parse_cigar_quality('6S70M', 'A/AAAEEAEEEAEEEEEEEEEEEEAEAEEEAEEEAEEEE//EEE/EAEE/EE/EEEEEEEAEEEEAEEEEAE/EEE'))\n",
    "print(parse_cigar_quality('75M1S', '<E/EEEEAEEEE/E<EEEE/EEE/E/EAEAEEEEEEEEEAEAEEEEEEEEEEEEEEEEEEE/EEEEEEEEEAAAAA'))"
   ]
  },
  {
   "cell_type": "code",
   "execution_count": 42,
   "metadata": {},
   "outputs": [
    {
     "name": "stdout",
     "output_type": "stream",
     "text": [
      "000000ATCTGAGCCTGGGAGCTCTCTGGCTAACTAGGG00CCC0CTGC0TA0GCCTCGATAAAGCCTGCCT0GAG\n",
      "0C0CGACACAGG0C0CGGC0TGC0G0AGCGCGCACGGCAAGAGGCGAGGGGCGGCGACTGG0GAGTACGCCAAAA0\n"
     ]
    }
   ],
   "source": [
    "def parse_sequence(sequence, cigar_string, quality_string):\n",
    "    valid_symbols = ('A', 'C', 'G', 'T')\n",
    "    checked_seq = parse_cigar_quality(cigar_string, quality_string)\n",
    "    parsed_sequence = ''\n",
    "    for i in range(len(checked_seq)):\n",
    "        if checked_seq[i] == '1' and sequence[i] in valid_symbols:\n",
    "            parsed_sequence += sequence[i]\n",
    "        else:\n",
    "            parsed_sequence += '0'\n",
    "    return parsed_sequence\n",
    "\n",
    "print(parse_sequence('GACCATATCTGAGCCTGGGAGCTCTCTGGCTAACTAGGGAACCCACTGCTTAAGCCTCGATAAAGCCTGCCTTGAG', '6S70M', 'A/AAAEEAEEEAEEEEEEEEEEEEAEAEEEAEEEAEEEE//EEE/EAEE/EE/EEEEEEEAEEEEAEEEEAE/EEE'))\n",
    "print(parse_sequence('TCTCGACACAGGACTCGGCTTGCTGAAGCGCGCACGGCAAGAGGCGAGGGGCGGCGACTGGTGAGTACGCCAAAAT', '75M1S', '<E/EEEEAEEEE/E<EEEE/EEE/E/EAEAEEEEEEEEEAEAEEEEEEEEEEEEEEEEEEE/EEEEEEEEEAAAAA'))"
   ]
  },
  {
   "cell_type": "code",
   "execution_count": 43,
   "metadata": {},
   "outputs": [
    {
     "name": "stdout",
     "output_type": "stream",
     "text": [
      "[['NB500937:402:HY7YGAFXY:1:11101:24170:1067' '0' '21' '70' '6S70M'\n",
      "  'GACCATATCTGAGCCTGGGAGCTCTCTGGCTAACTAGGGAACCCACTGCTTAAGCCTCGATAAAGCCTGCCTTGAG'\n",
      "  'A/AAAEEAEEEAEEEEEEEEEEEEAEAEEEAEEEAEEEE//EEE/EAEE/EE/EEEEEEEAEEEEAEEEEAE/EEE']]\n",
      "[['NB500937:402:HY7YGAFXY:1:11101:24170:1067' '16' '230' '70' '75M1S'\n",
      "  'TCTCGACACAGGACTCGGCTTGCTGAAGCGCGCACGGCAAGAGGCGAGGGGCGGCGACTGGTGAGTACGCCAAAAT'\n",
      "  '<E/EEEEAEEEE/E<EEEE/EEE/E/EAEAEEEEEEEEEAEAEEEEEEEEEEEEEEEEEEE/EEEEEEEEEAAAAA']]\n"
     ]
    }
   ],
   "source": [
    "print(bound_8_8_left[:1])\n",
    "print(bound_8_8_right[:1])"
   ]
  },
  {
   "cell_type": "code",
   "execution_count": 47,
   "metadata": {},
   "outputs": [
    {
     "name": "stdout",
     "output_type": "stream",
     "text": [
      "1\n",
      "1\n"
     ]
    }
   ],
   "source": [
    "# get min value of column 3\n",
    "# conver to int\n",
    "left = np.min(bound_8_8_left[:,2].astype(int))\n",
    "print(left)\n",
    "\n",
    "right = np.min(bound_8_8_right[:,2].astype(int))\n",
    "print(right)"
   ]
  },
  {
   "cell_type": "code",
   "execution_count": 51,
   "metadata": {},
   "outputs": [
    {
     "name": "stdout",
     "output_type": "stream",
     "text": [
      "00000000000000000000000000ATCTGAGCCTGGGAGCTCTCTGGCTAACTAGGG00CCC0CTGC0TA0GCCTCGATAAAGCCTGCCT0GAG0000000000000000000000000000000000000000000000000000000000000000000000000000000000000000000000000000000000000000000000000000000000000000000000000000000000000000000000000000000000000000000000000000000000000000000000000000000000000000000000000000000000000000000000000000000000000000000000000000000000000000\n",
      "00000000000000000000000000000000000000000000000000000000000000000000000000000000000000000000000000000000000000000000000000000000000000000000000000000000000000000000000000000000000000000000000000000000000000000000000000000000000000C0CGACACAGG0C0CGGC0TGC0G0AGCGCGCACGGCAAGAGGCGAGGGGCGGCGACTGG0GAGTACGCCAAAA000000000000000000000000000000000000000000000000000000000000000000000000000000000000000000000000\n"
     ]
    }
   ],
   "source": [
    "# align fragment\n",
    "def align_fragment(length_sequence, pos, cigar_string, sequence, quality_string):\n",
    "    parsed_sequence = parse_sequence(sequence, cigar_string, quality_string)\n",
    "    aligned_sequence = ''\n",
    "    # add pos - 1 0s to the beginning of the sequence\n",
    "    aligned_sequence += '0' * (pos - 1)\n",
    "    # add parsed sequence to the end of the sequence\n",
    "    aligned_sequence += parsed_sequence\n",
    "    # add 0s to the end of the sequence\n",
    "    aligned_sequence += '0' * (length_sequence - len(aligned_sequence))\n",
    "    return aligned_sequence\n",
    "\n",
    "left_seq = align_fragment(400, 21, '6S70M', 'GACCATATCTGAGCCTGGGAGCTCTCTGGCTAACTAGGGAACCCACTGCTTAAGCCTCGATAAAGCCTGCCTTGAG', 'A/AAAEEAEEEAEEEEEEEEEEEEAEAEEEAEEEAEEEE//EEE/EAEE/EE/EEEEEEEAEEEEAEEEEAE/EEE')\n",
    "right_seq = align_fragment(400, 230, '75M1S', 'TCTCGACACAGGACTCGGCTTGCTGAAGCGCGCACGGCAAGAGGCGAGGGGCGGCGACTGGTGAGTACGCCAAAAT', '<E/EEEEAEEEE/E<EEEE/EEE/E/EAEAEEEEEEEEEAEAEEEEEEEEEEEEEEEEEEE/EEEEEEEEEAAAAA')\n",
    "print(left_seq)\n",
    "print(right_seq)"
   ]
  },
  {
   "cell_type": "code",
   "execution_count": 53,
   "metadata": {},
   "outputs": [
    {
     "name": "stdout",
     "output_type": "stream",
     "text": [
      "00000000000000000000000000ATCTGAGCCTGGGAGCTCTCTGGCTAACTAGGG00CCC0CTGC0TA0GCCTCGATAAAGCCTGCCT0GAG00000000000000000000000000000000000000000000000000000000000000000000000000000000000000000000000000000000000000000000000000000000000000C0CGACACAGG0C0CGGC0TGC0G0AGCGCGCACGGCAAGAGGCGAGGGGCGGCGACTGG0GAGTACGCCAAAA000000000000000000000000000000000000000000000000000000000000000000000000000000000000000000000000\n"
     ]
    }
   ],
   "source": [
    "# merge aligned sequences\n",
    "def merge_sequences(left_sequence, right_sequence, length_sequence):\n",
    "    merged_sequence = ''\n",
    "    for i in range(length_sequence):\n",
    "        if left_sequence[i] == right_sequence[i]:\n",
    "            merged_sequence += left_sequence[i]\n",
    "        # if left sequence is 0, add right sequence\n",
    "        elif left_sequence[i] == '0':\n",
    "            merged_sequence += right_sequence[i]\n",
    "        # if right sequence is 0, add left sequence\n",
    "        elif right_sequence[i] == '0':\n",
    "            merged_sequence += left_sequence[i]\n",
    "        # if left and right sequences are different, add 0\n",
    "        else:\n",
    "            merged_sequence += '0'\n",
    "\n",
    "    return merged_sequence\n",
    "\n",
    "print(merge_sequences(left_seq, right_seq, 400))"
   ]
  }
 ],
 "metadata": {
  "kernelspec": {
   "display_name": "baseML",
   "language": "python",
   "name": "python3"
  },
  "language_info": {
   "codemirror_mode": {
    "name": "ipython",
    "version": 3
   },
   "file_extension": ".py",
   "mimetype": "text/x-python",
   "name": "python",
   "nbconvert_exporter": "python",
   "pygments_lexer": "ipython3",
   "version": "3.9.15"
  },
  "orig_nbformat": 4
 },
 "nbformat": 4,
 "nbformat_minor": 2
}
